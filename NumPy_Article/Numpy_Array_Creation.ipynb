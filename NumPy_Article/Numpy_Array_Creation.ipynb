{
 "metadata": {
  "language_info": {
   "codemirror_mode": {
    "name": "ipython",
    "version": 3
   },
   "file_extension": ".py",
   "mimetype": "text/x-python",
   "name": "python",
   "nbconvert_exporter": "python",
   "pygments_lexer": "ipython3",
   "version": "3.8.5-final"
  },
  "orig_nbformat": 2,
  "kernelspec": {
   "name": "python3",
   "display_name": "Python 3.8.5 64-bit ('GCProject': conda)",
   "metadata": {
    "interpreter": {
     "hash": "d712cd9ab2e8ee28a31b2e25760473ef4c430c339e1e8f31403f337c2f1a6b18"
    }
   }
  }
 },
 "nbformat": 4,
 "nbformat_minor": 2,
 "cells": [
  {
   "source": [
    "# NumPy Array 1D, 2D and 3D\n",
    "\n",
    "Import NumPy library"
   ],
   "cell_type": "markdown",
   "metadata": {}
  },
  {
   "cell_type": "code",
   "execution_count": 1,
   "metadata": {},
   "outputs": [
    {
     "output_type": "stream",
     "name": "stdout",
     "text": [
      "1.19.5\n"
     ]
    }
   ],
   "source": [
    "import numpy as np\n",
    "print(np.__version__)"
   ]
  },
  {
   "source": [
    "Creating Numpy Array using np.array() --> Direct initialization"
   ],
   "cell_type": "markdown",
   "metadata": {}
  },
  {
   "cell_type": "code",
   "execution_count": 2,
   "metadata": {},
   "outputs": [
    {
     "output_type": "stream",
     "name": "stdout",
     "text": [
      "(4,)\n(4,)\nnp.shape returns : <class 'tuple'>\nint32\n1\n"
     ]
    }
   ],
   "source": [
    "# creating 1D array\n",
    "arr_1D = np.array([1,2,3,4])\n",
    "print(np.shape(arr_1D)) \t\t\t\t\t            # Output: (4,)\n",
    "print(arr_1D.shape) \t\t\t\t\t                # Output: (4,)\n",
    "print(\"np.shape returns : \" + str(type(arr_1D.shape))) \t# Output: np.shape returns : <class 'tuple'>\n",
    "print(arr_1D.dtype) \t\t\t\t\t                # Output: int32\n",
    "print(arr_1D.ndim) \t\t\t\t\t                    # Output: 1"
   ]
  },
  {
   "cell_type": "code",
   "execution_count": 3,
   "metadata": {},
   "outputs": [
    {
     "output_type": "stream",
     "name": "stdout",
     "text": [
      "(3, 4)\n(3, 4)\nnp.shape returns : <class 'tuple'>\nint32\n2\n"
     ]
    }
   ],
   "source": [
    "# creating 2D array\n",
    "arr_2D = np.array([[1,2,3,4],[5,6,7,8],[9,11,20,21]])\n",
    "print(np.shape(arr_2D)) \t\t\t\t\t            # Output: (3,4)\n",
    "print(arr_2D.shape) \t\t\t\t\t                # Output: (3,4)\n",
    "print(\"np.shape returns : \" + str(type(arr_2D.shape))) \t# Output: np.shape returns : <class 'tuple'>\n",
    "print(arr_2D.dtype) \t\t\t\t\t                # Output: int32\n",
    "print(arr_2D.ndim) \t\t\t\t\t                    # Output: 2"
   ]
  },
  {
   "cell_type": "code",
   "execution_count": 4,
   "metadata": {},
   "outputs": [
    {
     "output_type": "stream",
     "name": "stdout",
     "text": [
      "(3, 3, 4)\n(3, 3, 4)\nnp.shape returns : <class 'tuple'>\nint32\n3\n"
     ]
    }
   ],
   "source": [
    "# creating 2D array\n",
    "arr_3D = np.array([[[1,2,3,4],[7,6,5,2],[8,9,3,4]],[[1,2,3,4],[7,6,5,2],[8,9,3,4]],[[1,2,3,4],[7,6,5,2],[8,9,3,4]]])\n",
    "print(np.shape(arr_3D)) \t\t\t\t\t            # Output: (3,2,3)\n",
    "print(arr_3D.shape) \t\t\t\t\t                # Output: (3,2,3)\n",
    "print(\"np.shape returns : \" + str(type(arr_3D.shape))) \t# Output: np.shape returns : <class 'tuple'>\n",
    "print(arr_3D.dtype) \t\t\t\t\t                # Output: int32\n",
    "print(arr_3D.ndim) \t\t\t\t\t                    # Output: 3\n"
   ]
  },
  {
   "source": [
    "Place holders"
   ],
   "cell_type": "markdown",
   "metadata": {}
  },
  {
   "cell_type": "code",
   "execution_count": 8,
   "metadata": {},
   "outputs": [],
   "source": [
    "# np.zeros\n",
    "# creating arrays with zero\n",
    "arr_1D_zeros = np.zeros(2)          #1D array\n",
    "arr_2D_zeros = np.zeros((2,2))      #2D array\n",
    "arr_3D_zeros = np.zeros((2,2,2))    #3D array\n",
    "\n",
    "print(arr_1D_zeros)\n",
    "print(arr_2D_zeros)\n",
    "print(arr_3D_zeros)"
   ]
  },
  {
   "cell_type": "code",
   "execution_count": 34,
   "metadata": {},
   "outputs": [
    {
     "output_type": "stream",
     "name": "stdout",
     "text": [
      "[1. 1. 1.]\n[[1. 1. 1.]\n [1. 1. 1.]\n [1. 1. 1.]]\n[[[1. 1. 1.]\n  [1. 1. 1.]\n  [1. 1. 1.]]\n\n [[1. 1. 1.]\n  [1. 1. 1.]\n  [1. 1. 1.]]\n\n [[1. 1. 1.]\n  [1. 1. 1.]\n  [1. 1. 1.]]]\n"
     ]
    }
   ],
   "source": [
    "# np.ones\n",
    "# creating arrays with one\n",
    "arr_1D_ones = np.ones(3)          #1D array\n",
    "arr_2D_ones = np.ones((3,3))      #2D array\n",
    "arr_3D_ones = np.ones((3,3,3))    #3D array\n",
    "\n",
    "print(arr_1D_ones)\n",
    "print(arr_2D_ones)\n",
    "print(arr_3D_ones)"
   ]
  },
  {
   "cell_type": "code",
   "execution_count": 22,
   "metadata": {},
   "outputs": [
    {
     "output_type": "stream",
     "name": "stdout",
     "text": [
      "[1.23881674e-311 0.00000000e+000 8.54515833e+194]\n[[0.00000000e+000 0.00000000e+000 0.00000000e+000]\n [0.00000000e+000 0.00000000e+000 7.94457559e-321]\n [3.98449938e+252 8.03700728e-095 4.71280061e+257]]\n[[[1.23881895e-311 8.44852254e-322 0.00000000e+000]\n  [0.00000000e+000 1.89146896e-307 1.16096346e-028]\n  [1.04857803e-142 1.16467185e-028 7.11936158e-071]]\n\n [[1.96087669e+243 7.49232703e+247 6.03835653e+151]\n  [1.09936966e+248 6.03835653e+151 9.15002793e+242]\n  [3.94658447e+180 1.96087669e+243 6.97283728e+228]]\n\n [[1.96087669e+243 1.01601965e+160 9.07216338e+223]\n  [9.15002793e+242 1.14572577e+243 3.74502571e+233]\n  [5.48947967e-096 8.47613321e+136 2.56765542e-312]]]\n"
     ]
    }
   ],
   "source": [
    "# np.empty\n",
    "# creating arrays with small values\n",
    "arr_1D_empty = np.empty(3)          #1D array\n",
    "arr_2D_empty = np.empty([3,3])      #2D array\n",
    "arr_3D_empty = np.empty([3,3,3])    #3D array\n",
    "\n",
    "print(arr_1D_empty)\n",
    "print(arr_2D_empty)\n",
    "print(arr_3D_empty)"
   ]
  },
  {
   "cell_type": "code",
   "execution_count": 27,
   "metadata": {},
   "outputs": [
    {
     "output_type": "stream",
     "name": "stdout",
     "text": [
      "[[1. 0. 0.]\n [0. 1. 0.]\n [0. 0. 1.]]\n"
     ]
    }
   ],
   "source": [
    "# np.eye\n",
    "# creating arrays with 1 at the diagonal\n",
    "arr_2D_diag = np.eye(3)\n",
    "\n",
    "print(arr_2D_diag)"
   ]
  },
  {
   "cell_type": "code",
   "execution_count": 31,
   "metadata": {},
   "outputs": [
    {
     "output_type": "stream",
     "name": "stdout",
     "text": [
      "[2 2 2]\n[[2 2 2]\n [2 2 2]\n [2 2 2]]\n[[[2 2 2]\n  [2 2 2]\n  [2 2 2]]\n\n [[2 2 2]\n  [2 2 2]\n  [2 2 2]]\n\n [[2 2 2]\n  [2 2 2]\n  [2 2 2]]]\n"
     ]
    }
   ],
   "source": [
    "# np.full\n",
    "# creating arrays with desired values\n",
    "arr_1D_full =  np.full((3), 2)\n",
    "arr_2D_full =  np.full((3, 3), 2)\n",
    "arr_3D_full =  np.full((3, 3, 3), 2)\n",
    "\n",
    "print(arr_1D_full)\n",
    "print(arr_2D_full)\n",
    "print(arr_3D_full)"
   ]
  },
  {
   "cell_type": "code",
   "execution_count": 33,
   "metadata": {},
   "outputs": [
    {
     "output_type": "stream",
     "name": "stdout",
     "text": [
      "[0.46778157 0.26073354 0.50163708]\n[[0.23938871 0.70741353 0.95204069]\n [0.69144634 0.18587188 0.36965513]\n [0.89701735 0.314832   0.9149256 ]]\n[[[0.7494059  0.39518458 0.42687203]\n  [0.64411215 0.87069035 0.54712567]\n  [0.39680668 0.85417618 0.98511222]]\n\n [[0.07890133 0.8666866  0.11207338]\n  [0.31013186 0.80367788 0.59382019]\n  [0.66087765 0.00533347 0.79779062]]\n\n [[0.86469633 0.66253041 0.28973875]\n  [0.4780897  0.96006832 0.99752648]\n  [0.80870082 0.89800666 0.91258147]]]\n"
     ]
    }
   ],
   "source": [
    "# np.random.rand\n",
    "# creating arrays with random values\n",
    "arr_1D_rand =  np.random.rand(3)\n",
    "arr_2D_rand =  np.random.rand(3, 3)\n",
    "arr_3D_rand =  np.random.rand(3, 3, 3)\n",
    "\n",
    "print(arr_1D_rand)\n",
    "print(arr_2D_rand)\n",
    "print(arr_3D_rand)"
   ]
  }
 ]
}