{
 "metadata": {
  "language_info": {
   "codemirror_mode": {
    "name": "ipython",
    "version": 3
   },
   "file_extension": ".py",
   "mimetype": "text/x-python",
   "name": "python",
   "nbconvert_exporter": "python",
   "pygments_lexer": "ipython3",
   "version": "3.8.5-final"
  },
  "orig_nbformat": 2,
  "kernelspec": {
   "name": "python3",
   "display_name": "Python 3.8.5 64-bit",
   "metadata": {
    "interpreter": {
     "hash": "d712cd9ab2e8ee28a31b2e25760473ef4c430c339e1e8f31403f337c2f1a6b18"
    }
   }
  }
 },
 "nbformat": 4,
 "nbformat_minor": 2,
 "cells": [
  {
   "source": [
    "# Numpy array operations"
   ],
   "cell_type": "markdown",
   "metadata": {}
  },
  {
   "source": [
    "import library"
   ],
   "cell_type": "markdown",
   "metadata": {}
  },
  {
   "cell_type": "code",
   "execution_count": 1,
   "metadata": {},
   "outputs": [],
   "source": [
    "import numpy as np"
   ]
  },
  {
   "source": [
    "create array"
   ],
   "cell_type": "markdown",
   "metadata": {}
  },
  {
   "cell_type": "code",
   "execution_count": 70,
   "metadata": {},
   "outputs": [],
   "source": [
    "# 1-D array\n",
    "A = np.array([1,3,2])\n",
    "B = np.array([3,5,7])\n",
    "\n",
    "# 2-D array\n",
    "C = np.array([[1,6,3],[8,9,5],[7,2,4]])\n",
    "D = np.array([1,3,4,8,9,6])"
   ]
  },
  {
   "source": [
    "# operations"
   ],
   "cell_type": "markdown",
   "metadata": {}
  },
  {
   "cell_type": "code",
   "execution_count": 14,
   "metadata": {},
   "outputs": [
    {
     "output_type": "stream",
     "name": "stdout",
     "text": [
      "[1 3 2]\n[3 5 4]\n[2 6 4]\n[-1  1  0]\n[0.5 1.5 1. ]\n[4 8 9]\n[ 3 15 14]\n[-2 -2 -5]\n[0.33333333 0.6        0.28571429]\n"
     ]
    }
   ],
   "source": [
    "#adding element\n",
    "print(A)\n",
    "print(A+2)\n",
    "print(A*2)\n",
    "print(A-2)\n",
    "print(A/2)\n",
    "\n",
    "#adding array\n",
    "print(A+B)\n",
    "print(A*B)\n",
    "print(A-B)\n",
    "print(A/B)"
   ]
  },
  {
   "cell_type": "code",
   "execution_count": 24,
   "metadata": {},
   "outputs": [
    {
     "output_type": "stream",
     "name": "stdout",
     "text": [
      "[1 3 2]\n[ 2.71828183 20.08553692  7.3890561 ]\n[0.84147098 0.14112001 0.90929743]\n0.816496580927726\n[0.01745329 0.05235988 0.03490659]\n[ 57.29577951 171.88733854 114.59155903]\n0.6666666666666666\n6\n[1 3 2]\n"
     ]
    }
   ],
   "source": [
    "# mathematical functions\n",
    "print(A)\n",
    "print(np.exp(A))            # exponential (complex and real)\n",
    "print(np.sin(A))            # sine\n",
    "print(np.std(A))            # standard deviation\n",
    "print(np.radians(A))        # degrees to radians\n",
    "print(np.degrees(A))        # radians to degrees\n",
    "print(np.var(A))            # variance of array\n",
    "print(np.sum(A))            # sum over axis 1\n",
    "print(np.abs(A))            # return absolute values"
   ]
  },
  {
   "cell_type": "code",
   "execution_count": 39,
   "metadata": {},
   "outputs": [
    {
     "output_type": "stream",
     "name": "stdout",
     "text": [
      "[1 3 2]\n[3 5 7]\n[  1 243 128]\n[0.32175055 0.5404195  0.27829966]\n32\n[[ 3  5  7]\n [ 9 15 21]\n [ 6 10 14]]\n[4 8 9]\n[ 3 15 14]\n[1 1 1]\n[1 3 2]\n[ 6. +0.j        -1.5-0.8660254j -1.5+0.8660254j]\n"
     ]
    }
   ],
   "source": [
    "print(A)\n",
    "print(B)\n",
    "print(np.power(A,B))        # a to the power b\n",
    "print(np.arctan2(A, B))     # arctan(a/b)\n",
    "print(np.dot(A, B))         # inner product: a_mi b_in\n",
    "print(np.outer(A, B))       # outer product\n",
    "print(np.add(A,B))          # addition\n",
    "print(np.lcm(A,B))          # LCM\n",
    "print(np.gcd(A,B))          # GCD\n",
    "print(np.mod(A,B))          # mod\n",
    "print(np.fft.fft(A))        # complex fourier transform of a"
   ]
  },
  {
   "source": [
    "Indexing"
   ],
   "cell_type": "markdown",
   "metadata": {}
  },
  {
   "cell_type": "code",
   "execution_count": 41,
   "metadata": {},
   "outputs": [
    {
     "output_type": "execute_result",
     "data": {
      "text/plain": [
       "3"
      ]
     },
     "metadata": {},
     "execution_count": 41
    }
   ],
   "source": [
    "# 1D array\n",
    "print(B[0])\n",
    "print(B[2])\n",
    "print(B[1:])\n",
    "print(B[-2])\n",
    "print(B[0:1])\n",
    "print(B[0:2:2]) "
   ]
  },
  {
   "cell_type": "code",
   "execution_count": 69,
   "metadata": {},
   "outputs": [
    {
     "output_type": "stream",
     "name": "stdout",
     "text": [
      "1\n7\n[9 5]\n[[9 5]\n [2 4]]\n[[1 6]\n [8 9]]\n[3 5]\n"
     ]
    }
   ],
   "source": [
    "# 2D array\n",
    "print(C[0,0])\n",
    "print(C[2,0])\n",
    "print(C[1,1:])\n",
    "print(C[1:,1:])\n",
    "print(C[0:-1,:-1])\n",
    "print(C[0:2,-1]) "
   ]
  },
  {
   "source": [
    "reshape"
   ],
   "cell_type": "markdown",
   "metadata": {}
  },
  {
   "cell_type": "code",
   "execution_count": 80,
   "metadata": {},
   "outputs": [
    {
     "output_type": "stream",
     "name": "stdout",
     "text": [
      "[[1 3]\n [4 8]\n [9 6]]\n[[[1 3 4]]\n\n [[8 9 6]]]\n[[1 6 3 8 9 5 7 2 4]]\n"
     ]
    }
   ],
   "source": [
    "print(D.reshape(3, 2))\n",
    "print(D.reshape(2, 1, 3))\n",
    "print(C.reshape(1,9))"
   ]
  },
  {
   "source": [
    "join"
   ],
   "cell_type": "markdown",
   "metadata": {}
  },
  {
   "cell_type": "code",
   "execution_count": 87,
   "metadata": {},
   "outputs": [
    {
     "output_type": "stream",
     "name": "stdout",
     "text": [
      "[1 3 2 3 5 7]\n[[1 3 2]\n [3 5 7]]\n[1 3 2 3 5 7]\n[[1 3 2]\n [3 5 7]]\n[[[1 3]\n  [3 5]\n  [2 7]]]\n"
     ]
    }
   ],
   "source": [
    "print(np.concatenate((A, B)))\n",
    "print(np.stack((A, B)))\n",
    "print(np.hstack((A, B)))\n",
    "print(np.vstack((A, B)))\n",
    "print(np.dstack((A, B)))"
   ]
  },
  {
   "source": [
    "split"
   ],
   "cell_type": "markdown",
   "metadata": {}
  },
  {
   "cell_type": "code",
   "execution_count": 93,
   "metadata": {},
   "outputs": [
    {
     "output_type": "stream",
     "name": "stdout",
     "text": [
      "[array([1, 3]), array([4, 8]), array([9, 6])]\n[array([[1, 6, 3]]), array([[8, 9, 5]]), array([[7, 2, 4]])]\n[array([1, 3]), array([4, 8]), array([9, 6])]\n[array([[1, 6, 3]]), array([[8, 9, 5]]), array([[7, 2, 4]])]\n"
     ]
    }
   ],
   "source": [
    "print(np.array_split((D),3))\n",
    "print(np.array_split((C),3))\n",
    "print(np.hsplit((D),3))\n",
    "print(np.vsplit((C),3))"
   ]
  },
  {
   "source": [
    "sorting"
   ],
   "cell_type": "markdown",
   "metadata": {}
  },
  {
   "cell_type": "code",
   "execution_count": 97,
   "metadata": {},
   "outputs": [
    {
     "output_type": "stream",
     "name": "stdout",
     "text": [
      "(array([2], dtype=int64),)\n(array([2, 3, 5], dtype=int64),)\n2\n"
     ]
    }
   ],
   "source": [
    "print(np.where(D == 4))\n",
    "print(np.where(D%2 == 0))\n",
    "print(np.searchsorted(D, 4))"
   ]
  },
  {
   "source": [
    "Save and Load Data"
   ],
   "cell_type": "markdown",
   "metadata": {}
  },
  {
   "cell_type": "code",
   "execution_count": 98,
   "metadata": {},
   "outputs": [],
   "source": [
    "np.save('save_data',D)"
   ]
  },
  {
   "cell_type": "code",
   "execution_count": 99,
   "metadata": {},
   "outputs": [
    {
     "output_type": "stream",
     "name": "stdout",
     "text": [
      "[1 3 4 8 9 6]\n"
     ]
    }
   ],
   "source": [
    "E = np.load('save_data.npy')\n",
    "print(E)"
   ]
  },
  {
   "cell_type": "code",
   "execution_count": null,
   "metadata": {},
   "outputs": [],
   "source": []
  }
 ]
}