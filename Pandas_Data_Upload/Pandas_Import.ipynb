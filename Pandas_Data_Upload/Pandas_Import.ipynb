{
 "metadata": {
  "language_info": {
   "codemirror_mode": {
    "name": "ipython",
    "version": 3
   },
   "file_extension": ".py",
   "mimetype": "text/x-python",
   "name": "python",
   "nbconvert_exporter": "python",
   "pygments_lexer": "ipython3",
   "version": "3.8.5"
  },
  "orig_nbformat": 2,
  "kernelspec": {
   "name": "python385jvsc74a57bd0827c4add5b6840af82bac3798a0b95f166191b93d572e79c1f3382d3c0dcc227",
   "display_name": "Python 3.8.5 64-bit ('medium': conda)"
  }
 },
 "nbformat": 4,
 "nbformat_minor": 2,
 "cells": [
  {
   "source": [
    "# Pandas data import\n",
    "Ultimate guide to import data from various data sources into Pandas dataframe "
   ],
   "cell_type": "markdown",
   "metadata": {}
  },
  {
   "cell_type": "code",
   "execution_count": 1,
   "metadata": {},
   "outputs": [],
   "source": [
    "# import libraries\n",
    "import pandas as pd \n",
    "import numpy as np\n",
    "from google.cloud import bigquery\n",
    "import cx_Oracle as db"
   ]
  },
  {
   "cell_type": "code",
   "execution_count": 2,
   "metadata": {},
   "outputs": [],
   "source": [
    "# data sources link\n",
    "csv_current_dir = 'train.csv'\n",
    "csv_another_dir = './Dataset/train.csv'\n",
    "excel_another_dir = './Dataset/excel_data.xlsx'\n",
    "feather_another_dir = './Dataset/feather_data.feather'\n",
    "textfile_another_dir = './Dataset/textFile.txt'\n",
    "hdf_another_dir = './Dataset/jet2.h5'\n",
    "csv_from_url = \"https://raw.githubusercontent.com/cs109/2014_data/master/countries.csv\"\n",
    "html_url = 'https://en.wikipedia.org/wiki/India'\n",
    "html_file = './Dataset/table.html'\n",
    "json_file = './Dataset/table.json'"
   ]
  },
  {
   "cell_type": "code",
   "execution_count": 3,
   "metadata": {},
   "outputs": [
    {
     "output_type": "execute_result",
     "data": {
      "text/plain": [
       "'\\nselect\\nA3_7A3_7_SI_SENSOR_1,D1_01D1_01_ZAEHLER_01,DATUM from tablename\\n'"
      ]
     },
     "metadata": {},
     "execution_count": 3
    }
   ],
   "source": [
    "# big query sql\n",
    "query = \"\"\"\n",
    "SELECT\n",
    "  weight_pounds,\n",
    "  is_male,\n",
    "  mother_age\n",
    "FROM\n",
    "  publicdata.samples.natality\n",
    "WHERE year > 2000\n",
    "LIMIT 5\n",
    "\"\"\"\n",
    "\n",
    "# oracle query\n",
    "\"\"\"\n",
    "select\n",
    "    A3_7A3_7_SI_SENSOR_1,\n",
    "    D1_01D1_01_ZAEHLER_01,\n",
    "    DATUM \n",
    "from \n",
    "    tablename\n",
    "\"\"\""
   ]
  },
  {
   "cell_type": "code",
   "execution_count": 4,
   "metadata": {},
   "outputs": [
    {
     "output_type": "execute_result",
     "data": {
      "text/plain": [
       "         X1        X2        X3     TARGET\n",
       "0  0.991066  1.462883  0.034695  10.543255\n",
       "1  0.925121 -0.335997  0.261957  11.612457\n",
       "2  0.501710  0.794581  0.445746   9.252304\n",
       "3  0.933814 -0.580261  0.337145  12.352551\n",
       "4  0.129216 -0.281915  0.036227   1.568255"
      ],
      "text/html": "<div>\n<style scoped>\n    .dataframe tbody tr th:only-of-type {\n        vertical-align: middle;\n    }\n\n    .dataframe tbody tr th {\n        vertical-align: top;\n    }\n\n    .dataframe thead th {\n        text-align: right;\n    }\n</style>\n<table border=\"1\" class=\"dataframe\">\n  <thead>\n    <tr style=\"text-align: right;\">\n      <th></th>\n      <th>X1</th>\n      <th>X2</th>\n      <th>X3</th>\n      <th>TARGET</th>\n    </tr>\n  </thead>\n  <tbody>\n    <tr>\n      <th>0</th>\n      <td>0.991066</td>\n      <td>1.462883</td>\n      <td>0.034695</td>\n      <td>10.543255</td>\n    </tr>\n    <tr>\n      <th>1</th>\n      <td>0.925121</td>\n      <td>-0.335997</td>\n      <td>0.261957</td>\n      <td>11.612457</td>\n    </tr>\n    <tr>\n      <th>2</th>\n      <td>0.501710</td>\n      <td>0.794581</td>\n      <td>0.445746</td>\n      <td>9.252304</td>\n    </tr>\n    <tr>\n      <th>3</th>\n      <td>0.933814</td>\n      <td>-0.580261</td>\n      <td>0.337145</td>\n      <td>12.352551</td>\n    </tr>\n    <tr>\n      <th>4</th>\n      <td>0.129216</td>\n      <td>-0.281915</td>\n      <td>0.036227</td>\n      <td>1.568255</td>\n    </tr>\n  </tbody>\n</table>\n</div>"
     },
     "metadata": {},
     "execution_count": 4
    }
   ],
   "source": [
    "# reading data from current directory\n",
    "df_import_current_dir = pd.read_csv(csv_current_dir)\n",
    "df_import_current_dir.head()"
   ]
  },
  {
   "cell_type": "code",
   "execution_count": 5,
   "metadata": {},
   "outputs": [
    {
     "output_type": "execute_result",
     "data": {
      "text/plain": [
       "         X1        X2        X3     TARGET\n",
       "0  0.991066  1.462883  0.034695  10.543255\n",
       "1  0.925121 -0.335997  0.261957  11.612457\n",
       "2  0.501710  0.794581  0.445746   9.252304\n",
       "3  0.933814 -0.580261  0.337145  12.352551\n",
       "4  0.129216 -0.281915  0.036227   1.568255"
      ],
      "text/html": "<div>\n<style scoped>\n    .dataframe tbody tr th:only-of-type {\n        vertical-align: middle;\n    }\n\n    .dataframe tbody tr th {\n        vertical-align: top;\n    }\n\n    .dataframe thead th {\n        text-align: right;\n    }\n</style>\n<table border=\"1\" class=\"dataframe\">\n  <thead>\n    <tr style=\"text-align: right;\">\n      <th></th>\n      <th>X1</th>\n      <th>X2</th>\n      <th>X3</th>\n      <th>TARGET</th>\n    </tr>\n  </thead>\n  <tbody>\n    <tr>\n      <th>0</th>\n      <td>0.991066</td>\n      <td>1.462883</td>\n      <td>0.034695</td>\n      <td>10.543255</td>\n    </tr>\n    <tr>\n      <th>1</th>\n      <td>0.925121</td>\n      <td>-0.335997</td>\n      <td>0.261957</td>\n      <td>11.612457</td>\n    </tr>\n    <tr>\n      <th>2</th>\n      <td>0.501710</td>\n      <td>0.794581</td>\n      <td>0.445746</td>\n      <td>9.252304</td>\n    </tr>\n    <tr>\n      <th>3</th>\n      <td>0.933814</td>\n      <td>-0.580261</td>\n      <td>0.337145</td>\n      <td>12.352551</td>\n    </tr>\n    <tr>\n      <th>4</th>\n      <td>0.129216</td>\n      <td>-0.281915</td>\n      <td>0.036227</td>\n      <td>1.568255</td>\n    </tr>\n  </tbody>\n</table>\n</div>"
     },
     "metadata": {},
     "execution_count": 5
    }
   ],
   "source": [
    "# reading data from another directory\n",
    "df_import_another_dir = pd.read_csv(csv_another_dir)\n",
    "df_import_another_dir.head()"
   ]
  },
  {
   "cell_type": "code",
   "execution_count": 6,
   "metadata": {},
   "outputs": [
    {
     "output_type": "execute_result",
     "data": {
      "text/plain": [
       "    Country  Region\n",
       "0   Algeria  AFRICA\n",
       "1    Angola  AFRICA\n",
       "2     Benin  AFRICA\n",
       "3  Botswana  AFRICA\n",
       "4   Burkina  AFRICA"
      ],
      "text/html": "<div>\n<style scoped>\n    .dataframe tbody tr th:only-of-type {\n        vertical-align: middle;\n    }\n\n    .dataframe tbody tr th {\n        vertical-align: top;\n    }\n\n    .dataframe thead th {\n        text-align: right;\n    }\n</style>\n<table border=\"1\" class=\"dataframe\">\n  <thead>\n    <tr style=\"text-align: right;\">\n      <th></th>\n      <th>Country</th>\n      <th>Region</th>\n    </tr>\n  </thead>\n  <tbody>\n    <tr>\n      <th>0</th>\n      <td>Algeria</td>\n      <td>AFRICA</td>\n    </tr>\n    <tr>\n      <th>1</th>\n      <td>Angola</td>\n      <td>AFRICA</td>\n    </tr>\n    <tr>\n      <th>2</th>\n      <td>Benin</td>\n      <td>AFRICA</td>\n    </tr>\n    <tr>\n      <th>3</th>\n      <td>Botswana</td>\n      <td>AFRICA</td>\n    </tr>\n    <tr>\n      <th>4</th>\n      <td>Burkina</td>\n      <td>AFRICA</td>\n    </tr>\n  </tbody>\n</table>\n</div>"
     },
     "metadata": {},
     "execution_count": 6
    }
   ],
   "source": [
    "# reading data from url\n",
    "df_import_url = pd.read_csv(csv_from_url)\n",
    "df_import_url.head()"
   ]
  },
  {
   "cell_type": "code",
   "execution_count": 8,
   "metadata": {},
   "outputs": [
    {
     "output_type": "execute_result",
     "data": {
      "text/plain": [
       "    Country  Region\n",
       "0   Algeria  AFRICA\n",
       "1    Angola  AFRICA\n",
       "2     Benin  AFRICA\n",
       "3  Botswana  AFRICA\n",
       "4   Burkina  AFRICA"
      ],
      "text/html": "<div>\n<style scoped>\n    .dataframe tbody tr th:only-of-type {\n        vertical-align: middle;\n    }\n\n    .dataframe tbody tr th {\n        vertical-align: top;\n    }\n\n    .dataframe thead th {\n        text-align: right;\n    }\n</style>\n<table border=\"1\" class=\"dataframe\">\n  <thead>\n    <tr style=\"text-align: right;\">\n      <th></th>\n      <th>Country</th>\n      <th>Region</th>\n    </tr>\n  </thead>\n  <tbody>\n    <tr>\n      <th>0</th>\n      <td>Algeria</td>\n      <td>AFRICA</td>\n    </tr>\n    <tr>\n      <th>1</th>\n      <td>Angola</td>\n      <td>AFRICA</td>\n    </tr>\n    <tr>\n      <th>2</th>\n      <td>Benin</td>\n      <td>AFRICA</td>\n    </tr>\n    <tr>\n      <th>3</th>\n      <td>Botswana</td>\n      <td>AFRICA</td>\n    </tr>\n    <tr>\n      <th>4</th>\n      <td>Burkina</td>\n      <td>AFRICA</td>\n    </tr>\n  </tbody>\n</table>\n</div>"
     },
     "metadata": {},
     "execution_count": 8
    }
   ],
   "source": [
    "# copy the dataframe above and run this\n",
    "df_clipboard = pd.read_clipboard()\n",
    "df_clipboard.head()"
   ]
  },
  {
   "cell_type": "code",
   "execution_count": 9,
   "metadata": {},
   "outputs": [
    {
     "output_type": "execute_result",
     "data": {
      "text/plain": [
       "   A  B\n",
       "0  1  2\n",
       "1  2  3\n",
       "2  3  4\n",
       "3  4  5\n",
       "4  5  6"
      ],
      "text/html": "<div>\n<style scoped>\n    .dataframe tbody tr th:only-of-type {\n        vertical-align: middle;\n    }\n\n    .dataframe tbody tr th {\n        vertical-align: top;\n    }\n\n    .dataframe thead th {\n        text-align: right;\n    }\n</style>\n<table border=\"1\" class=\"dataframe\">\n  <thead>\n    <tr style=\"text-align: right;\">\n      <th></th>\n      <th>A</th>\n      <th>B</th>\n    </tr>\n  </thead>\n  <tbody>\n    <tr>\n      <th>0</th>\n      <td>1</td>\n      <td>2</td>\n    </tr>\n    <tr>\n      <th>1</th>\n      <td>2</td>\n      <td>3</td>\n    </tr>\n    <tr>\n      <th>2</th>\n      <td>3</td>\n      <td>4</td>\n    </tr>\n    <tr>\n      <th>3</th>\n      <td>4</td>\n      <td>5</td>\n    </tr>\n    <tr>\n      <th>4</th>\n      <td>5</td>\n      <td>6</td>\n    </tr>\n  </tbody>\n</table>\n</div>"
     },
     "metadata": {},
     "execution_count": 9
    }
   ],
   "source": [
    "# read data from excel file\n",
    "# please make sure that xlrd package is installed\n",
    "# if xlrd > 2.0.1 then also install openpyxl package\n",
    "df_read_excel = pd.read_excel(excel_another_dir)\n",
    "df_read_excel.head()"
   ]
  },
  {
   "cell_type": "code",
   "execution_count": 10,
   "metadata": {},
   "outputs": [],
   "source": [
    "# importing feather data\n",
    "# feather data is a binary file format\n",
    "# very high performance of reading and writing compared to read or writing csv\n",
    "# feather data works for both R and Python\n",
    "\n",
    "# first let's generate data\n",
    "\n",
    "arr = np.random.randn(200, 4) # array with 800 elements\n",
    "columnnames = ['col1','col2','col3','col4']\n",
    "df = pd.DataFrame(arr, columns=columnnames)\n",
    "\n",
    "# export data into dataset folder in feather format\n",
    "df.to_feather(feather_another_dir)"
   ]
  },
  {
   "cell_type": "code",
   "execution_count": 11,
   "metadata": {},
   "outputs": [
    {
     "output_type": "execute_result",
     "data": {
      "text/plain": [
       "       col1      col2      col3      col4\n",
       "0 -0.006778 -1.665707  0.664247 -0.068092\n",
       "1  0.124316  2.207284  1.308837 -0.053956\n",
       "2  0.473819 -0.466810  1.081742 -0.133779\n",
       "3 -0.268494 -1.285698 -0.313816  1.117697\n",
       "4  2.478739  0.364139 -1.483501 -1.227362"
      ],
      "text/html": "<div>\n<style scoped>\n    .dataframe tbody tr th:only-of-type {\n        vertical-align: middle;\n    }\n\n    .dataframe tbody tr th {\n        vertical-align: top;\n    }\n\n    .dataframe thead th {\n        text-align: right;\n    }\n</style>\n<table border=\"1\" class=\"dataframe\">\n  <thead>\n    <tr style=\"text-align: right;\">\n      <th></th>\n      <th>col1</th>\n      <th>col2</th>\n      <th>col3</th>\n      <th>col4</th>\n    </tr>\n  </thead>\n  <tbody>\n    <tr>\n      <th>0</th>\n      <td>-0.006778</td>\n      <td>-1.665707</td>\n      <td>0.664247</td>\n      <td>-0.068092</td>\n    </tr>\n    <tr>\n      <th>1</th>\n      <td>0.124316</td>\n      <td>2.207284</td>\n      <td>1.308837</td>\n      <td>-0.053956</td>\n    </tr>\n    <tr>\n      <th>2</th>\n      <td>0.473819</td>\n      <td>-0.466810</td>\n      <td>1.081742</td>\n      <td>-0.133779</td>\n    </tr>\n    <tr>\n      <th>3</th>\n      <td>-0.268494</td>\n      <td>-1.285698</td>\n      <td>-0.313816</td>\n      <td>1.117697</td>\n    </tr>\n    <tr>\n      <th>4</th>\n      <td>2.478739</td>\n      <td>0.364139</td>\n      <td>-1.483501</td>\n      <td>-1.227362</td>\n    </tr>\n  </tbody>\n</table>\n</div>"
     },
     "metadata": {},
     "execution_count": 11
    }
   ],
   "source": [
    "# import feather data into pandas dataframe\n",
    "df_feather = pd.read_feather(feather_another_dir)\n",
    "df_feather.head()"
   ]
  },
  {
   "cell_type": "code",
   "execution_count": 12,
   "metadata": {},
   "outputs": [
    {
     "output_type": "execute_result",
     "data": {
      "text/plain": [
       "      name        title               salary\n",
       "0    Rahul    Side kick                 -100\n",
       "1  Ironman     Rich Guy  1000000000000000000\n",
       "2  Captain  Respect Guy      100000000000000\n",
       "3     Hulk    Smash bro     1000000000000000"
      ],
      "text/html": "<div>\n<style scoped>\n    .dataframe tbody tr th:only-of-type {\n        vertical-align: middle;\n    }\n\n    .dataframe tbody tr th {\n        vertical-align: top;\n    }\n\n    .dataframe thead th {\n        text-align: right;\n    }\n</style>\n<table border=\"1\" class=\"dataframe\">\n  <thead>\n    <tr style=\"text-align: right;\">\n      <th></th>\n      <th>name</th>\n      <th>title</th>\n      <th>salary</th>\n    </tr>\n  </thead>\n  <tbody>\n    <tr>\n      <th>0</th>\n      <td>Rahul</td>\n      <td>Side kick</td>\n      <td>-100</td>\n    </tr>\n    <tr>\n      <th>1</th>\n      <td>Ironman</td>\n      <td>Rich Guy</td>\n      <td>1000000000000000000</td>\n    </tr>\n    <tr>\n      <th>2</th>\n      <td>Captain</td>\n      <td>Respect Guy</td>\n      <td>100000000000000</td>\n    </tr>\n    <tr>\n      <th>3</th>\n      <td>Hulk</td>\n      <td>Smash bro</td>\n      <td>1000000000000000</td>\n    </tr>\n  </tbody>\n</table>\n</div>"
     },
     "metadata": {},
     "execution_count": 12
    }
   ],
   "source": [
    "# Reading a table of fixed-width formatted lines into Pandas\n",
    "df_textfile = pd.read_fwf(textfile_another_dir,skiprows=[0,1,2], skipfooter = 2, widths=[8,12,19])\n",
    "df_textfile"
   ]
  },
  {
   "cell_type": "code",
   "execution_count": 13,
   "metadata": {},
   "outputs": [
    {
     "output_type": "execute_result",
     "data": {
      "text/plain": [
       "   weight_pounds  is_male  mother_age\n",
       "0       7.568469     True          22\n",
       "1       8.807467     True          39\n",
       "2       8.313632     True          23\n",
       "3       8.000575    False          27\n",
       "4       6.563162    False          29"
      ],
      "text/html": "<div>\n<style scoped>\n    .dataframe tbody tr th:only-of-type {\n        vertical-align: middle;\n    }\n\n    .dataframe tbody tr th {\n        vertical-align: top;\n    }\n\n    .dataframe thead th {\n        text-align: right;\n    }\n</style>\n<table border=\"1\" class=\"dataframe\">\n  <thead>\n    <tr style=\"text-align: right;\">\n      <th></th>\n      <th>weight_pounds</th>\n      <th>is_male</th>\n      <th>mother_age</th>\n    </tr>\n  </thead>\n  <tbody>\n    <tr>\n      <th>0</th>\n      <td>7.568469</td>\n      <td>True</td>\n      <td>22</td>\n    </tr>\n    <tr>\n      <th>1</th>\n      <td>8.807467</td>\n      <td>True</td>\n      <td>39</td>\n    </tr>\n    <tr>\n      <th>2</th>\n      <td>8.313632</td>\n      <td>True</td>\n      <td>23</td>\n    </tr>\n    <tr>\n      <th>3</th>\n      <td>8.000575</td>\n      <td>False</td>\n      <td>27</td>\n    </tr>\n    <tr>\n      <th>4</th>\n      <td>6.563162</td>\n      <td>False</td>\n      <td>29</td>\n    </tr>\n  </tbody>\n</table>\n</div>"
     },
     "metadata": {},
     "execution_count": 13
    }
   ],
   "source": [
    "# install gcloud sdk\n",
    "# install bigquery client\n",
    "# authenticate yoursellf through cli\n",
    "# importing data from big query\n",
    "# Returns data in pandas dataframe format\n",
    "df_gcp = bigquery.Client().query(query).to_dataframe();\n",
    "df_gcp.head()"
   ]
  },
  {
   "cell_type": "code",
   "execution_count": 14,
   "metadata": {},
   "outputs": [
    {
     "output_type": "execute_result",
     "data": {
      "text/plain": [
       "   x    y  z\n",
       "0  1  1.0  a"
      ],
      "text/html": "<div>\n<style scoped>\n    .dataframe tbody tr th:only-of-type {\n        vertical-align: middle;\n    }\n\n    .dataframe tbody tr th {\n        vertical-align: top;\n    }\n\n    .dataframe thead th {\n        text-align: right;\n    }\n</style>\n<table border=\"1\" class=\"dataframe\">\n  <thead>\n    <tr style=\"text-align: right;\">\n      <th></th>\n      <th>x</th>\n      <th>y</th>\n      <th>z</th>\n    </tr>\n  </thead>\n  <tbody>\n    <tr>\n      <th>0</th>\n      <td>1</td>\n      <td>1.0</td>\n      <td>a</td>\n    </tr>\n  </tbody>\n</table>\n</div>"
     },
     "metadata": {},
     "execution_count": 14
    }
   ],
   "source": [
    "# creating heirarichal data file hdf\n",
    "# this requires you to install tables\n",
    "df_create_hdf = pd.DataFrame([[1, 1.0, 'a']], columns=['x', 'y', 'z'])\n",
    "df_create_hdf.to_hdf(hdf_another_dir, 'data')\n",
    "\n",
    "#read data\n",
    "df_hdf = pd.read_hdf(hdf_another_dir)\n",
    "df_hdf.head()"
   ]
  },
  {
   "cell_type": "code",
   "execution_count": 15,
   "metadata": {},
   "outputs": [
    {
     "output_type": "execute_result",
     "data": {
      "text/plain": [
       "  Firstname Lastname  Age\n",
       "0     Rahul   Pandey   33\n",
       "1      Iron      Man   48\n",
       "2   Captain  America   39\n",
       "3       The     Hulk   49"
      ],
      "text/html": "<div>\n<style scoped>\n    .dataframe tbody tr th:only-of-type {\n        vertical-align: middle;\n    }\n\n    .dataframe tbody tr th {\n        vertical-align: top;\n    }\n\n    .dataframe thead th {\n        text-align: right;\n    }\n</style>\n<table border=\"1\" class=\"dataframe\">\n  <thead>\n    <tr style=\"text-align: right;\">\n      <th></th>\n      <th>Firstname</th>\n      <th>Lastname</th>\n      <th>Age</th>\n    </tr>\n  </thead>\n  <tbody>\n    <tr>\n      <th>0</th>\n      <td>Rahul</td>\n      <td>Pandey</td>\n      <td>33</td>\n    </tr>\n    <tr>\n      <th>1</th>\n      <td>Iron</td>\n      <td>Man</td>\n      <td>48</td>\n    </tr>\n    <tr>\n      <th>2</th>\n      <td>Captain</td>\n      <td>America</td>\n      <td>39</td>\n    </tr>\n    <tr>\n      <th>3</th>\n      <td>The</td>\n      <td>Hulk</td>\n      <td>49</td>\n    </tr>\n  </tbody>\n</table>\n</div>"
     },
     "metadata": {},
     "execution_count": 15
    }
   ],
   "source": [
    "# the most powerfull \n",
    "# reading from html file\n",
    "# returns list\n",
    "df_html_file = pd.DataFrame(pd.read_html(html_file)[0])\n",
    "df_html_file.head()"
   ]
  },
  {
   "cell_type": "code",
   "execution_count": 16,
   "metadata": {},
   "outputs": [
    {
     "output_type": "execute_result",
     "data": {
      "text/plain": [
       "                0                                                  1\n",
       "0       Australia  Ashmore and Cartier Islands Australian Antarct...\n",
       "1     New Zealand          Cook Islands Niue Ross Dependency Tokelau\n",
       "2  United Kingdom  Akrotiri and Dhekelia Anguilla Bermuda British..."
      ],
      "text/html": "<div>\n<style scoped>\n    .dataframe tbody tr th:only-of-type {\n        vertical-align: middle;\n    }\n\n    .dataframe tbody tr th {\n        vertical-align: top;\n    }\n\n    .dataframe thead th {\n        text-align: right;\n    }\n</style>\n<table border=\"1\" class=\"dataframe\">\n  <thead>\n    <tr style=\"text-align: right;\">\n      <th></th>\n      <th>0</th>\n      <th>1</th>\n    </tr>\n  </thead>\n  <tbody>\n    <tr>\n      <th>0</th>\n      <td>Australia</td>\n      <td>Ashmore and Cartier Islands Australian Antarct...</td>\n    </tr>\n    <tr>\n      <th>1</th>\n      <td>New Zealand</td>\n      <td>Cook Islands Niue Ross Dependency Tokelau</td>\n    </tr>\n    <tr>\n      <th>2</th>\n      <td>United Kingdom</td>\n      <td>Akrotiri and Dhekelia Anguilla Bermuda British...</td>\n    </tr>\n  </tbody>\n</table>\n</div>"
     },
     "metadata": {},
     "execution_count": 16
    }
   ],
   "source": [
    "# fetching data from html webpages \n",
    "# returns list\n",
    "df_html_url = pd.DataFrame(pd.read_html(html_url)[18])\n",
    "df_html_url.head()"
   ]
  },
  {
   "cell_type": "code",
   "execution_count": 17,
   "metadata": {},
   "outputs": [],
   "source": [
    "#creating json file\n",
    "df_revengers = pd.DataFrame([['rahul', 'pandey'], ['iron', 'man'], ['captain', 'america'], ['the', 'hulk']],\n",
    "                  index=['0', '1', '2', '3'],\n",
    "                  columns=['firstname', 'lastname'])\n",
    "df_revengers.to_json(json_file, orient='split')"
   ]
  },
  {
   "cell_type": "code",
   "execution_count": 18,
   "metadata": {},
   "outputs": [
    {
     "output_type": "execute_result",
     "data": {
      "text/plain": [
       "  firstname lastname\n",
       "0     rahul   pandey\n",
       "1      iron      man\n",
       "2   captain  america\n",
       "3       the     hulk"
      ],
      "text/html": "<div>\n<style scoped>\n    .dataframe tbody tr th:only-of-type {\n        vertical-align: middle;\n    }\n\n    .dataframe tbody tr th {\n        vertical-align: top;\n    }\n\n    .dataframe thead th {\n        text-align: right;\n    }\n</style>\n<table border=\"1\" class=\"dataframe\">\n  <thead>\n    <tr style=\"text-align: right;\">\n      <th></th>\n      <th>firstname</th>\n      <th>lastname</th>\n    </tr>\n  </thead>\n  <tbody>\n    <tr>\n      <th>0</th>\n      <td>rahul</td>\n      <td>pandey</td>\n    </tr>\n    <tr>\n      <th>1</th>\n      <td>iron</td>\n      <td>man</td>\n    </tr>\n    <tr>\n      <th>2</th>\n      <td>captain</td>\n      <td>america</td>\n    </tr>\n    <tr>\n      <th>3</th>\n      <td>the</td>\n      <td>hulk</td>\n    </tr>\n  </tbody>\n</table>\n</div>"
     },
     "metadata": {},
     "execution_count": 18
    }
   ],
   "source": [
    "#fetching data from json\n",
    "df_json = pd.read_json(json_file, orient='split')\n",
    "df_json.head()"
   ]
  },
  {
   "cell_type": "code",
   "execution_count": null,
   "metadata": {},
   "outputs": [],
   "source": [
    "#DB connection credentials\n",
    "connstr='username/password@source'\n",
    "conn = db.connect(connstr)\n",
    "curs = conn.cursor()\n",
    "\n",
    "#Datalogger connection\n",
    "curs.execute()\n",
    "\n",
    "#Data into pandas\n",
    "df_from_db = pd.DataFrame(curs.fetchall())\n",
    "col_names = [row[0] for row in curs.description]\n",
    "df_from_db.columns = col_names\n",
    "curs.close()\n",
    "\n",
    "#Show data\n",
    "df_from_db.head(n=10)"
   ]
  }
 ]
}